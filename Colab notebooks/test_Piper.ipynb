{
  "nbformat": 4,
  "nbformat_minor": 0,
  "metadata": {
    "colab": {
      "provenance": [],
      "gpuType": "T4"
    },
    "kernelspec": {
      "name": "python3",
      "display_name": "Python 3"
    },
    "language_info": {
      "name": "python"
    },
    "accelerator": "GPU"
  },
  "cells": [
    {
      "cell_type": "code",
      "execution_count": 1,
      "metadata": {
        "colab": {
          "base_uri": "https://localhost:8080/"
        },
        "id": "YxgMhaYHTH6K",
        "outputId": "ab05c71d-32c4-494b-b663-f9cc580d3992"
      },
      "outputs": [
        {
          "output_type": "stream",
          "name": "stdout",
          "text": [
            "Collecting piper-tts\n",
            "  Downloading piper_tts-1.2.0-py3-none-any.whl (29 kB)\n",
            "Collecting piper-phonemize~=1.1.0 (from piper-tts)\n",
            "  Downloading piper_phonemize-1.1.0-cp310-cp310-manylinux_2_28_x86_64.whl (25.0 MB)\n",
            "\u001b[2K     \u001b[90m━━━━━━━━━━━━━━━━━━━━━━━━━━━━━━━━━━━━━━━━\u001b[0m \u001b[32m25.0/25.0 MB\u001b[0m \u001b[31m56.9 MB/s\u001b[0m eta \u001b[36m0:00:00\u001b[0m\n",
            "\u001b[?25hCollecting onnxruntime<2,>=1.11.0 (from piper-tts)\n",
            "  Downloading onnxruntime-1.18.0-cp310-cp310-manylinux_2_27_x86_64.manylinux_2_28_x86_64.whl (6.8 MB)\n",
            "\u001b[2K     \u001b[90m━━━━━━━━━━━━━━━━━━━━━━━━━━━━━━━━━━━━━━━━\u001b[0m \u001b[32m6.8/6.8 MB\u001b[0m \u001b[31m107.7 MB/s\u001b[0m eta \u001b[36m0:00:00\u001b[0m\n",
            "\u001b[?25hCollecting coloredlogs (from onnxruntime<2,>=1.11.0->piper-tts)\n",
            "  Downloading coloredlogs-15.0.1-py2.py3-none-any.whl (46 kB)\n",
            "\u001b[2K     \u001b[90m━━━━━━━━━━━━━━━━━━━━━━━━━━━━━━━━━━━━━━━━\u001b[0m \u001b[32m46.0/46.0 kB\u001b[0m \u001b[31m8.0 MB/s\u001b[0m eta \u001b[36m0:00:00\u001b[0m\n",
            "\u001b[?25hRequirement already satisfied: flatbuffers in /usr/local/lib/python3.10/dist-packages (from onnxruntime<2,>=1.11.0->piper-tts) (24.3.25)\n",
            "Requirement already satisfied: numpy>=1.21.6 in /usr/local/lib/python3.10/dist-packages (from onnxruntime<2,>=1.11.0->piper-tts) (1.25.2)\n",
            "Requirement already satisfied: packaging in /usr/local/lib/python3.10/dist-packages (from onnxruntime<2,>=1.11.0->piper-tts) (24.1)\n",
            "Requirement already satisfied: protobuf in /usr/local/lib/python3.10/dist-packages (from onnxruntime<2,>=1.11.0->piper-tts) (3.20.3)\n",
            "Requirement already satisfied: sympy in /usr/local/lib/python3.10/dist-packages (from onnxruntime<2,>=1.11.0->piper-tts) (1.12.1)\n",
            "Collecting humanfriendly>=9.1 (from coloredlogs->onnxruntime<2,>=1.11.0->piper-tts)\n",
            "  Downloading humanfriendly-10.0-py2.py3-none-any.whl (86 kB)\n",
            "\u001b[2K     \u001b[90m━━━━━━━━━━━━━━━━━━━━━━━━━━━━━━━━━━━━━━━━\u001b[0m \u001b[32m86.8/86.8 kB\u001b[0m \u001b[31m13.7 MB/s\u001b[0m eta \u001b[36m0:00:00\u001b[0m\n",
            "\u001b[?25hRequirement already satisfied: mpmath<1.4.0,>=1.1.0 in /usr/local/lib/python3.10/dist-packages (from sympy->onnxruntime<2,>=1.11.0->piper-tts) (1.3.0)\n",
            "Installing collected packages: piper-phonemize, humanfriendly, coloredlogs, onnxruntime, piper-tts\n",
            "Successfully installed coloredlogs-15.0.1 humanfriendly-10.0 onnxruntime-1.18.0 piper-phonemize-1.1.0 piper-tts-1.2.0\n"
          ]
        }
      ],
      "source": [
        "!pip install piper-tts"
      ]
    },
    {
      "cell_type": "code",
      "source": [
        "!ls\n",
        "!python --version\n",
        "!pwd"
      ],
      "metadata": {
        "colab": {
          "base_uri": "https://localhost:8080/"
        },
        "id": "aszlviaWTmKW",
        "outputId": "cf9012bd-43e3-4d26-df29-9e16614d026e"
      },
      "execution_count": 2,
      "outputs": [
        {
          "output_type": "stream",
          "name": "stdout",
          "text": [
            "ro_RO-vlad_sarbu-medium.tar.gz\tsample_data\n",
            "Python 3.10.12\n",
            "/content\n"
          ]
        }
      ]
    },
    {
      "cell_type": "code",
      "source": [
        "!unzip final_TTS_model_Vlad.zip"
      ],
      "metadata": {
        "colab": {
          "base_uri": "https://localhost:8080/"
        },
        "id": "nNsi8_4fZPdI",
        "outputId": "63212512-e2bf-4dd7-d3a9-439f60274c20"
      },
      "execution_count": 3,
      "outputs": [
        {
          "output_type": "stream",
          "name": "stdout",
          "text": [
            "Archive:  final_TTS_model_Vlad.zip\n",
            "  inflating: final_TTS_model_Vlad/final_TTS_model_Vlad.onnx  \n",
            "  inflating: final_TTS_model_Vlad/final_TTS_model_Vlad.onnx.json  \n"
          ]
        }
      ]
    },
    {
      "cell_type": "code",
      "source": [
        "import os\n",
        "import wave\n",
        "from piper.voice import PiperVoice\n",
        "\n",
        "model = \"/content/final_TTS_model_Vlad/final_TTS_model_Vlad.onnx\"\n",
        "voice = PiperVoice.load(model)\n",
        "wav_file = wave.open('output.wav', 'w')\n",
        "text = \"Universitatea Politehnica Timișoara (UPT) este una dintre cele mai prestigioase instituții de învățământ superior tehnic din România. Iată câteva informații relevante despre această universitate:\"\n",
        "# text = \"Drepturile studenților sunt reglementate de diverse legi și regulamente la nivel național și internațional. În România, acestea sunt în principal stabilite de Legea Educației Naționale.\"\n",
        "audio = voice.synthesize(text,wav_file)"
      ],
      "metadata": {
        "id": "hosptE0gTURI"
      },
      "execution_count": 8,
      "outputs": []
    }
  ]
}